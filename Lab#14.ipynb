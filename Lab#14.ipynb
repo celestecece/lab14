{
 "cells": [
  {
   "cell_type": "code",
   "execution_count": null,
   "id": "1c469ea4-0233-4534-8b3c-9f6ea9fb8c1e",
   "metadata": {},
   "outputs": [],
   "source": [
    "Title::Lab 14:RESPIRATORY PHYSIOLOGY \n",
    "    "
   ]
  },
  {
   "cell_type": "code",
   "execution_count": null,
   "id": "dc19b5b5-79a3-46b2-8727-e9b302b85b47",
   "metadata": {},
   "outputs": [],
   "source": [
    "#Purpose:This lab aims to explore the crucial role of air movement in and out of the lungs for cellular respiration and nutrient oxidation. \n",
    "Ventilation, the rhythmic inflation, and deflation of the lungs, addresses the continuous cellular demands for oxygen and carbon dioxide elimination. The use of a spirometer, initially coupled with a kymograph and now with digital pneumotach technology, allows measurement and recording of various human lung capacities. This lab specifically employs a digital pneumotach plugged into a computer's USB port for measuring lung volumes in its initial sections. The recorded data from spirometry is analyzed to assess the relative pulmonary condition of human subjects. The laboratory focuses on recording lung capacities, including tidal volume, vital capacity, inspiratory capacity, inspiratory reserve volume, expiratory capacity, and expiratory reserve volume, for student volunteers. Additionally, students will calculate timed vital capacity (TVC) or forced expiratory volume (FEVT) and gain exposure to the theory and use of incentive inspiratory devices and portable spirometers. The lab may also demonstrate impedance pneumography, a method for measuring ventilation rates by recording changes in thoracic impedance during breathing.\n"
   ]
  },
  {
   "cell_type": "code",
   "execution_count": null,
   "id": "304a0d26-a381-41e6-a6a2-5e796f6aab2c",
   "metadata": {},
   "outputs": [],
   "source": [
    "#Procedures:\n",
    "\n",
    "Step:\n",
    "1.)Ensure the Morgan ComPAS computer program has incorporated the BTPS correction factor.\n",
    "\n",
    "2.)Fully insert the Pneumotrac filter/mouthpiece, and consider using a nose clip to prevent air leakage.\n",
    "\n",
    "3.)Confirm that the correct student information is loaded before initiating the FVC (Forced Vital Capacity) test.\n",
    "\n",
    "4.)Follow instructor's verbal instructions during the FVC test, starting with equilibration, tidal breathing, and then taking a deep breath before forcefully exhaling.\n",
    "\n",
    "5.)The instructor will print the \"FVC Volume Time Curve,\" resembling Figure 14-2.\n",
    "\n",
    "6.)Calculate vital capacity (forced expiratory volume) by measuring the height of the highest peak, multiplying by 66.67 ml/mm, and rounding off to whole numbers.\n",
    "\n",
    "7.)Locate the \"1 second\" vertical line in the FVC graph, measure the height where the curved line crosses it, and calculate the FEV1 volume.\n",
    "\n",
    "8.)Determine the percentage of vital capacity exhaled at one second by dividing FEV1 volume by vital capacity, then multiplying by 100.\n",
    "\n",
    "9.)Identify the \"3 second\" vertical line, measure the height where the curved line crosses it, and calculate the FEV3 volume.\n",
    "\n",
    "10.)Calculate the percentage of vital capacity exhaled at three seconds by dividing FEV3 volume by vital capacity, then multiply by 100.\n",
    "\n",
    "11.)Compare these values to predicted values and provide explanations for any differences\n",
    "\n"
   ]
  },
  {
   "cell_type": "code",
   "execution_count": null,
   "id": "17d39778-5200-47ee-b66b-9ece19c9acc9",
   "metadata": {},
   "outputs": [],
   "source": [
    "#Results:"
   ]
  },
  {
   "cell_type": "code",
   "execution_count": null,
   "id": "e9504ca8-9e5a-4951-b0d1-4eb1f5e12a0a",
   "metadata": {},
   "outputs": [],
   "source": [
    "# import packages\n",
    "import statistics\n",
    "import pandas as pd\n",
    "import scipy.stats as stats\n",
    "from scipy.stats import sem\n",
    "from statistics import mean, stdev\n",
    "import matplotlib.pyplot as plt\n",
    "import numpy as np"
   ]
  },
  {
   "cell_type": "code",
   "execution_count": null,
   "id": "24cbf50a-371d-4e8e-9655-fc2ec5ce0087",
   "metadata": {},
   "outputs": [],
   "source": [
    "#Create datasets\n",
    "f_vc = [2.7, 3.7, 3.2, 3.45, 3.2, 3.1]\n",
    "m_vc = [3.3, 4.5, 3.7]\n",
    "\n",
    "#display data\n",
    "f_vc, m_vc"
   ]
  },
  {
   "cell_type": "code",
   "execution_count": null,
   "id": "37c1029b-4bff-4a03-b89f-b6b45ae2549f",
   "metadata": {},
   "outputs": [],
   "source": [
    "([2.7, 3.7, 3.2, 3.45, 3.2, 3.1], [3.3, 4.5, 3.7])"
   ]
  },
  {
   "cell_type": "code",
   "execution_count": null,
   "id": "b0efc741-e84f-4019-bc6d-baf3e6dff531",
   "metadata": {},
   "outputs": [],
   "source": [
    "fvc_mean = mean(f_vc)\n",
    "mvc_mean = mean(m_vc)\n",
    "\n",
    "\n",
    "fvc_mean, mvc_mean"
   ]
  },
  {
   "cell_type": "code",
   "execution_count": null,
   "id": "ffdd029f-0926-4c84-8f81-fd0c092969f3",
   "metadata": {},
   "outputs": [],
   "source": [
    "(3.225, 3.8333333333333335)"
   ]
  },
  {
   "cell_type": "code",
   "execution_count": null,
   "id": "dcd895c4-a6f2-4405-bac0-b1c8158e0efa",
   "metadata": {},
   "outputs": [],
   "source": [
    "fvc_sem = sem(f_vc)\n",
    "mvc_sem = sem(m_vc)\n",
    "\n",
    "#Display the SEM\n",
    "fvc_sem, mvc_sem"
   ]
  },
  {
   "cell_type": "code",
   "execution_count": null,
   "id": "1e2cd445-283f-457e-a84d-9b32733406df",
   "metadata": {},
   "outputs": [],
   "source": [
    "(0.13768926368215256, 0.3527668414752788)"
   ]
  },
  {
   "cell_type": "code",
   "execution_count": null,
   "id": "ea01b869-2806-410f-871f-eae5d882e4e9",
   "metadata": {},
   "outputs": [],
   "source": [
    "plt.bar(['Female', 'Male'],[fvc_mean,mvc_mean], yerr=[fvc_sem, mvc_sem], capsize=10)\n",
    "plt.xlabel('Biological Sex')\n",
    "plt.ylabel('Vital Capacity (L)')\n",
    "plt.title('Vital Capacity Differences in Male vs Female')"
   ]
  },
  {
   "cell_type": "code",
   "execution_count": null,
   "id": "c83a3aad-a236-46ba-b7fe-67b0b216354f",
   "metadata": {},
   "outputs": [],
   "source": [
    "Text(0.5, 1.0, 'Vital Capacity Differences in Male vs Female')\n"
   ]
  },
  {
   "cell_type": "code",
   "execution_count": 17,
   "id": "a4b369b3-ec9a-43da-bb75-34f27fb27297",
   "metadata": {
    "colab": {
     "base_uri": "https://localhost:8080/",
     "height": 489
    },
    "id": "Nj_hOTCnOuEZ",
    "outputId": "d4ec3f1e-c8b4-4779-961f-68e6513f1135"
   },
   "outputs": [
    {
     "data": {
      "text/plain": [
       "Text(0.5, 1.0, 'Vital Capacity Differences in Male vs Female')"
      ]
     },
     "execution_count": 17,
     "metadata": {},
     "output_type": "execute_result"
    },
    {
     "data": {
      "image/png": "[encoded data removed]",
      "text/plain": [
       "<Figure size 640x480 with 1 Axes>"
      ]
     },
     "metadata": {},
     "output_type": "display_data"
    }
   ],
   "source": [
    "plt.bar(['Female', 'Male'],[fvc_mean,mvc_mean], yerr=[fvc_sem, mvc_sem], capsize=10)\n",
    "plt.xlabel('Biological Sex')\n",
    "plt.ylabel('Vital Capacity (L)')\n",
    "plt.title('Vital Capacity Differences in Male vs Female')"
   ]
  },
  {
   "cell_type": "code",
   "execution_count": null,
   "id": "c5ba069b-3a2d-4f28-8044-b93b676b1fa6",
   "metadata": {},
   "outputs": [],
   "source": [
    "#Discussion:\n",
    "The vital capacity, which is the maximum amount of air a person can expel from the lungs after a maximum inhalation, can vary between males and females. Several factors contribute to these differences:\n",
    "\n",
    "\n",
    "1.)Body Size and Composition:\n",
    "Males generally have larger lung volumes than females due to differences in body size. Men tend to have larger chests and greater muscle mass, which can influence the capacity of the lungs.\n",
    "\n",
    "2.)Thoracic Shape:\n",
    "The shape of the thoracic cavity can vary between sexes. Males often have a broader chest, while females may have a wider pelvis. These structural differences can affect the space available for the lungs to expand.\n",
    "\n",
    "3.)Hormonal Influence:\n",
    "Hormones, particularly testosterone in males and estrogen in females, can play a role in lung development and function. Testosterone may contribute to increased lung capacity in males.\n",
    "\n",
    "4.)Ventilatory Patterns:\n",
    "Ventilatory patterns, or the way individuals breathe, can differ between males and females. Men may adopt different breathing patterns that influence vital capacity.\n",
    "\n",
    "5.)Physical Activity Levels:\n",
    "Variations in physical activity levels and exercise habits can impact respiratory function. Differences in lifestyle and activity may contribute to variations in vital capacity between sexes.\n",
    "\n"
   ]
  },
  {
   "cell_type": "code",
   "execution_count": null,
   "id": "55c44862-c359-4af8-a104-6aa5ac229879",
   "metadata": {},
   "outputs": [],
   "source": [
    "#Conclusion:\n",
    "\n",
    "The Forced Vital Capacity (FVC) test assesses how quickly air is expelled from the lungs. Healthy lungs typically expel at least 80% of vital capacity within one second and about 95% within three seconds. Inability to achieve these levels suggests potential air entrapment, signaling conditions like asthma, chronic bronchitis, or emphysema.\n",
    "It is important to emphasize that considerable individual differences exist within each gender, and factors like genetics, health, and environmental conditions significantly contribute to these variations. While there are average distinctions between males and females in terms of lung capacities, it is critical to acknowledge the extensive range \n",
    "of capacities observed within each gender group.\n",
    "\n",
    "\n",
    "\n",
    "\n",
    "\n"
   ]
  }
 ],
 "metadata": {
  "kernelspec": {
   "display_name": "scipy-tutorials-2023",
   "language": "python",
   "name": "conda-env-scipy-tutorials-2023-py"
  },
  "language_info": {
   "codemirror_mode": {
    "name": "ipython",
    "version": 3
   },
   "file_extension": ".py",
   "mimetype": "text/x-python",
   "name": "python",
   "nbconvert_exporter": "python",
   "pygments_lexer": "ipython3",
   "version": "3.10.0"
  }
 },
 "nbformat": 4,
 "nbformat_minor": 5
}
